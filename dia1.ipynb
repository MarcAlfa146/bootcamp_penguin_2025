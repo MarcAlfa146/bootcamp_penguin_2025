{
 "cells": [
  {
   "cell_type": "code",
   "execution_count": 2,
   "metadata": {},
   "outputs": [
    {
     "name": "stdout",
     "output_type": "stream",
     "text": [
      "Hola mundo\n"
     ]
    }
   ],
   "source": [
    "print(\"Hola mundo\")"
   ]
  },
  {
   "cell_type": "code",
   "execution_count": 6,
   "metadata": {},
   "outputs": [
    {
     "name": "stdout",
     "output_type": "stream",
     "text": [
      "La cantidad de frutas es:  40\n",
      "La cantidad de frutas restante es:  25\n"
     ]
    }
   ],
   "source": [
    "cantidad_de_manzanas = 20\n",
    "cantidad_de_naranjas = 15\n",
    "cantidad_de_frutas = cantidad_de_manzanas + cantidad_de_manzanas\n",
    "frutas_vendidas = 15\n",
    "frutas_restantes = cantidad_de_frutas - frutas_vendidas\n",
    "\n",
    "print(\"La cantidad de frutas es: \", cantidad_de_frutas)\n",
    "print(\"La cantidad de frutas restante es: \", frutas_restantes)"
   ]
  },
  {
   "cell_type": "code",
   "execution_count": 14,
   "metadata": {},
   "outputs": [
    {
     "name": "stdout",
     "output_type": "stream",
     "text": [
      "Hola, me llamo Hugo Ruiz. Mucho gusto\n"
     ]
    }
   ],
   "source": [
    "nombre = \"Hugo\"\n",
    "apellido = \"Ruiz\"\n",
    "print(f\"Hola, me llamo {nombre} {apellido}. Mucho gusto\")"
   ]
  },
  {
   "cell_type": "code",
   "execution_count": 20,
   "metadata": {},
   "outputs": [
    {
     "name": "stdout",
     "output_type": "stream",
     "text": [
      "La suma de los numeros es:  5\n"
     ]
    }
   ],
   "source": [
    "numero1 = int(input(\"Ingrese el primer numero \"))\n",
    "numero2 = int(input(\"Ingrese el segundo numero \"))\n",
    "suma = numero1 + numero2\n",
    "print(\"La suma de los numeros es: \",suma)"
   ]
  },
  {
   "cell_type": "code",
   "execution_count": 23,
   "metadata": {},
   "outputs": [
    {
     "name": "stdout",
     "output_type": "stream",
     "text": [
      "Hervir agua\n",
      "Agregar cafe\n",
      "Colar el cafe\n",
      "Servir el cafe\n",
      "Hervir agua\n",
      "Agregar cafe\n",
      "Colar el cafe\n",
      "Servir el cafe\n",
      "Hervir agua\n",
      "Agregar cafe\n",
      "Colar el cafe\n",
      "Servir el cafe\n"
     ]
    }
   ],
   "source": [
    "def preparar_cafe():\n",
    "    print(\"Hervir agua\")\n",
    "    print(\"Agregar cafe\")\n",
    "    print(\"Colar el cafe\")\n",
    "    print(\"Servir el cafe\")\n",
    "\n",
    "preparar_cafe()\n",
    "preparar_cafe()\n",
    "preparar_cafe()\n"
   ]
  },
  {
   "cell_type": "code",
   "execution_count": null,
   "metadata": {},
   "outputs": [
    {
     "name": "stdout",
     "output_type": "stream",
     "text": [
      "Ver marca\n",
      "lavar\n",
      "Ver marca\n",
      "planchar\n"
     ]
    }
   ],
   "source": [
    "def compra_de_electrodomestico(funcionalidad):\n",
    "    print(\"Ver marca\")\n",
    "    print(funcionalidad)\n",
    "\n",
    "compra_de_electrodomestico(\"lavar\")\n",
    "compra_de_electrodomestico(\"planchar\")\n"
   ]
  }
 ],
 "metadata": {
  "kernelspec": {
   "display_name": "base",
   "language": "python",
   "name": "python3"
  },
  "language_info": {
   "codemirror_mode": {
    "name": "ipython",
    "version": 3
   },
   "file_extension": ".py",
   "mimetype": "text/x-python",
   "name": "python",
   "nbconvert_exporter": "python",
   "pygments_lexer": "ipython3",
   "version": "3.12.7"
  }
 },
 "nbformat": 4,
 "nbformat_minor": 2
}
