{
 "cells": [
  {
   "cell_type": "code",
   "execution_count": 6,
   "metadata": {},
   "outputs": [
    {
     "name": "stdout",
     "output_type": "stream",
     "text": [
      "hace lo que quieras\n"
     ]
    }
   ],
   "source": [
    "edad_usuario = int(input(\"ingresa edad\"))\n",
    "\n",
    "if edad_usuario < 18:\n",
    "    print(\"juguito nomas\")\n",
    "elif edad_usuario >= 21:\n",
    "    print(\"hace lo que quieras\")\n",
    "else:\n",
    "    print(\"podes tomar pero no comprar\")"
   ]
  },
  {
   "cell_type": "code",
   "execution_count": 34,
   "metadata": {},
   "outputs": [
    {
     "name": "stdout",
     "output_type": "stream",
     "text": [
      "fresquete\n"
     ]
    }
   ],
   "source": [
    "temperatura = float(input(\"ingresa temperatura\"))\n",
    "\n",
    "if temperatura > -10 and temperatura <= 18:\n",
    "    print(\"fresquete\")\n",
    "elif temperatura < -10:\n",
    "    print(\"ho'ysa\")\n",
    "elif temperatura > 18 and temperatura <= 30:\n",
    "    print(\"calor\")\n",
    "elif temperatura > 30 and temperatura <= 45:\n",
    "    print(\"hakuuu\")\n",
    "else:\n",
    "    print(\"ña mano mba'e\")"
   ]
  },
  {
   "cell_type": "code",
   "execution_count": null,
   "metadata": {},
   "outputs": [],
   "source": [
    "contrasena = 12345\n",
    "\n",
    "while True:\n",
    "    codigo = int(input(\"ingrese el codigo\"))\n",
    "    if contrasena == codigo:\n",
    "        print(\"contraseña correcta\")\n",
    "        break\n",
    "    else:\n",
    "        print(\"fallaste\")"
   ]
  },
  {
   "cell_type": "code",
   "execution_count": 16,
   "metadata": {},
   "outputs": [
    {
     "name": "stdout",
     "output_type": "stream",
     "text": [
      "['banana', 'manzana', 'pera', 'uva', 'cacahuate', 'kiwi']\n",
      "['banana', 'sandia', 'pera', 'uva', 'cacahuate', 'kiwi']\n",
      "['banana', 'sandia', 'uva', 'cacahuate', 'kiwi']\n"
     ]
    }
   ],
   "source": [
    "lista_frutas = [\"banana\", \"manzana\", \"pera\", \"uva\", \"cacahuate\"]\n",
    "\n",
    "lista_frutas.append(\"kiwi\")\n",
    "print(lista_frutas)\n",
    "\n",
    "lista_frutas[1] = \"sandia\"\n",
    "print(lista_frutas)\n",
    "\n",
    "lista_frutas.pop(2)\n",
    "print(lista_frutas)\n"
   ]
  },
  {
   "cell_type": "code",
   "execution_count": 22,
   "metadata": {},
   "outputs": [
    {
     "name": "stdout",
     "output_type": "stream",
     "text": [
      "0\n",
      "2\n",
      "4\n",
      "6\n",
      "8\n",
      "10\n",
      "12\n",
      "14\n",
      "16\n",
      "18\n"
     ]
    }
   ],
   "source": [
    "for i in range(10):\n",
    "    print(i*2)"
   ]
  },
  {
   "cell_type": "code",
   "execution_count": 39,
   "metadata": {},
   "outputs": [
    {
     "name": "stdout",
     "output_type": "stream",
     "text": [
      "mercedes\n",
      "toyota\n"
     ]
    }
   ],
   "source": [
    "lista_marcas = [\"mercedes\", \"toyota\", \"ford\", \"fiat\", \"vw\"]\n",
    "\n",
    "for marca in lista_marcas:\n",
    "    if len(marca) >= 6:\n",
    "         print(marca)"
   ]
  },
  {
   "cell_type": "code",
   "execution_count": 7,
   "metadata": {},
   "outputs": [
    {
     "name": "stdout",
     "output_type": "stream",
     "text": [
      "la palabra contiene O\n",
      "la palabra contiene O\n"
     ]
    }
   ],
   "source": [
    "frase = str(input(\"ingresa una frase\"))\n",
    "\n",
    "for letra in frase:\n",
    "    if letra == \"o\":\n",
    "        print(\"la palabra contiene O\")"
   ]
  }
 ],
 "metadata": {
  "kernelspec": {
   "display_name": "base",
   "language": "python",
   "name": "python3"
  },
  "language_info": {
   "codemirror_mode": {
    "name": "ipython",
    "version": 3
   },
   "file_extension": ".py",
   "mimetype": "text/x-python",
   "name": "python",
   "nbconvert_exporter": "python",
   "pygments_lexer": "ipython3",
   "version": "3.12.7"
  }
 },
 "nbformat": 4,
 "nbformat_minor": 2
}
